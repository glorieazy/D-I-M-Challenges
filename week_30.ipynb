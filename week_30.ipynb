{
 "cells": [
  {
   "cell_type": "markdown",
   "id": "03ed83dd",
   "metadata": {},
   "source": [
    "28-07-23"
   ]
  },
  {
   "cell_type": "markdown",
   "id": "1e563601",
   "metadata": {},
   "source": [
    "### <p style=\"text-align: center;\">DataInMotion Week 30 Python Challenge</p>"
   ]
  },
  {
   "cell_type": "markdown",
   "id": "21441d51",
   "metadata": {},
   "source": [
    "#### <span style='color: blue;'>Problem Statement: Create a function that takes three values: h hours, m minutes, s seconds. Return the value that’s the longest duration.</span>  \n",
    "<span style='color: red;'> Note: No two durations will be the same.</span>"
   ]
  },
  {
   "cell_type": "code",
   "execution_count": 1,
   "id": "04ed970d",
   "metadata": {},
   "outputs": [],
   "source": [
    "#define the function, call it longest_distance\n",
    "def longest_time(h,m,s):\n",
    "    #convert the hour and minute inputs to seconds\n",
    "    h2s = h*3600\n",
    "    m2s = m*60\n",
    "    \n",
    "    #create conditional statement if 3 inputs are all equal in seconds\n",
    "    if (h2s == m2s) and (h2s == m2s) and (m2s == s):\n",
    "        print('Invalid!!!. The three distances you entered are equal')\n",
    "        \n",
    "    #create conditional statements if any pair of the inputs are not equal \n",
    "    elif (h2s != m2s) and (h2s != s) and (m2s != s):\n",
    "        \n",
    "        if (h2s > m2s) and (h2s > s):\n",
    "            print(h, 'Because', h, 'hour is greater than', m, 'minute(s)', 'and', s, 'second(s)')\n",
    "            \n",
    "        elif (m2s > h2s) and (m2s > s):\n",
    "            print(m,'Because', m,'minute(s) is greater than', h, 'hour(s) and', s, 'second(s)')\n",
    "            \n",
    "        else:\n",
    "            print(s, 'Because', s, 'second(s) is greater than', h, 'hour(s) and', 'second(s)')\n",
    "            \n",
    "    else:\n",
    "        \n",
    "        if h2s ==m2s:\n",
    "            print('Invalid!!! No two distance must be equal!!! Your inputed hour(s) and minute(s) are equal')\n",
    "                  \n",
    "        elif h2s ==s:\n",
    "            print('Invalid!!! No two distance must be equal!!! Your inputed hour(s) and second(s) are equal')\n",
    "            \n",
    "        elif m2s ==s:\n",
    "            print('Invalid!!! No two distance must be equal!!! Your inputed minute(s) and second(s) are equal')\n",
    "            \n",
    "        else:\n",
    "            print('Invalid!!!')"
   ]
  },
  {
   "cell_type": "code",
   "execution_count": 2,
   "id": "c25c09dc",
   "metadata": {},
   "outputs": [
    {
     "name": "stdout",
     "output_type": "stream",
     "text": [
      "1 Because 1 hour is greater than 30 minute(s) and 400 second(s)\n"
     ]
    }
   ],
   "source": [
    "#text when hour input is the longest\n",
    "longest_time(1,30,400)"
   ]
  },
  {
   "cell_type": "code",
   "execution_count": 3,
   "id": "6a648857",
   "metadata": {},
   "outputs": [
    {
     "name": "stdout",
     "output_type": "stream",
     "text": [
      "300 Because 300 minute(s) is greater than 1 hour(s) and 400 second(s)\n"
     ]
    }
   ],
   "source": [
    "#test when minute input is the longest\n",
    "longest_time(1,300,400)"
   ]
  },
  {
   "cell_type": "code",
   "execution_count": 4,
   "id": "f0edd8b0",
   "metadata": {},
   "outputs": [
    {
     "name": "stdout",
     "output_type": "stream",
     "text": [
      "4000 Because 4000 second(s) is greater than 1 hour(s) and second(s)\n"
     ]
    }
   ],
   "source": [
    "#test when seconds input is the longest\n",
    "longest_time(1,30,4000)"
   ]
  },
  {
   "cell_type": "code",
   "execution_count": 5,
   "id": "2bcc60df",
   "metadata": {},
   "outputs": [
    {
     "name": "stdout",
     "output_type": "stream",
     "text": [
      "Invalid!!! No two distance must be equal!!! Your inputed hour(s) and minute(s) are equal\n"
     ]
    }
   ],
   "source": [
    "#test when any 2 pairs are equal\n",
    "longest_time(0.5,30,400)"
   ]
  },
  {
   "cell_type": "code",
   "execution_count": 6,
   "id": "dbd7398e",
   "metadata": {},
   "outputs": [
    {
     "name": "stdout",
     "output_type": "stream",
     "text": [
      "Invalid!!! No two distance must be equal!!! Your inputed minute(s) and second(s) are equal\n"
     ]
    }
   ],
   "source": [
    "longest_time(0.5,1,60)"
   ]
  },
  {
   "cell_type": "code",
   "execution_count": 7,
   "id": "c1ad2379",
   "metadata": {},
   "outputs": [
    {
     "name": "stdout",
     "output_type": "stream",
     "text": [
      "Invalid!!!. The three distances you entered are equal\n"
     ]
    }
   ],
   "source": [
    "#test when the three inputs is the longest\n",
    "longest_time(1,60,3600)"
   ]
  },
  {
   "cell_type": "markdown",
   "id": "8daec6ba",
   "metadata": {},
   "source": []
  },
  {
   "cell_type": "markdown",
   "id": "81558d4e",
   "metadata": {},
   "source": [
    "#### <span style='color: blue;'>Create a function that takes an integer and returns the factorial of that integer. That is, the integer multiplied by all positive lower integers</span>\n",
    " <span style='color: red;'>Note: Assume all inputs are greater than or equal to 0. </span>"
   ]
  },
  {
   "cell_type": "code",
   "execution_count": 8,
   "id": "afe647a8",
   "metadata": {},
   "outputs": [],
   "source": [
    "def facto(value):\n",
    "    if value in [0,1]:\n",
    "        print(value, 'fatorial is 1')\n",
    "        \n",
    "    elif value > 1:\n",
    "        fact = 1\n",
    "        for i in range(1, value+1):\n",
    "            fact = fact * i\n",
    "        print(value, 'factorial is', fact)\n",
    "        \n",
    "    else:\n",
    "        value < 1 and value != 0\n",
    "        print('Factorial of this value is undefined')"
   ]
  },
  {
   "cell_type": "code",
   "execution_count": 9,
   "id": "9188a7fc",
   "metadata": {},
   "outputs": [
    {
     "name": "stdout",
     "output_type": "stream",
     "text": [
      "0 fatorial is 1\n"
     ]
    }
   ],
   "source": [
    "#check for 0!\n",
    "facto(0)"
   ]
  },
  {
   "cell_type": "code",
   "execution_count": 10,
   "id": "2b6f18df",
   "metadata": {},
   "outputs": [
    {
     "name": "stdout",
     "output_type": "stream",
     "text": [
      "1 fatorial is 1\n"
     ]
    }
   ],
   "source": [
    "#check for 1!\n",
    "facto(1)"
   ]
  },
  {
   "cell_type": "code",
   "execution_count": 11,
   "id": "3b071e74",
   "metadata": {},
   "outputs": [
    {
     "name": "stdout",
     "output_type": "stream",
     "text": [
      "4 factorial is 24\n"
     ]
    }
   ],
   "source": [
    "#check for 4!\n",
    "facto(4)"
   ]
  },
  {
   "cell_type": "code",
   "execution_count": 12,
   "id": "5e15b49c",
   "metadata": {},
   "outputs": [
    {
     "name": "stdout",
     "output_type": "stream",
     "text": [
      "Factorial of this value is undefined\n"
     ]
    }
   ],
   "source": [
    "#check for 0.8!\n",
    "facto(0.8)"
   ]
  },
  {
   "cell_type": "code",
   "execution_count": 13,
   "id": "0bb9e016",
   "metadata": {},
   "outputs": [
    {
     "name": "stdout",
     "output_type": "stream",
     "text": [
      "Factorial of this value is undefined\n"
     ]
    }
   ],
   "source": [
    "#check for -5!\n",
    "facto(-5)"
   ]
  }
 ],
 "metadata": {
  "kernelspec": {
   "display_name": "Python 3",
   "language": "python",
   "name": "python3"
  },
  "language_info": {
   "codemirror_mode": {
    "name": "ipython",
    "version": 3
   },
   "file_extension": ".py",
   "mimetype": "text/x-python",
   "name": "python",
   "nbconvert_exporter": "python",
   "pygments_lexer": "ipython3",
   "version": "3.8.8"
  }
 },
 "nbformat": 4,
 "nbformat_minor": 5
}
